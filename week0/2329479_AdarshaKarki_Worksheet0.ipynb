{
  "nbformat": 4,
  "nbformat_minor": 0,
  "metadata": {
    "colab": {
      "provenance": []
    },
    "kernelspec": {
      "name": "python3",
      "display_name": "Python 3"
    },
    "language_info": {
      "name": "python"
    }
  },
  "cells": [
    {
      "cell_type": "markdown",
      "source": [
        "# TODO Tasks"
      ],
      "metadata": {
        "id": "d6EJi2cinHSk"
      }
    },
    {
      "cell_type": "markdown",
      "source": [
        "# Task - 1:\n",
        "Create a Python program that converts between different units of measurement.\n",
        "• The program should:\n",
        "1. Prompt the user to choose the type of conversion (e.g., length, weight, volume).\n",
        "2. Ask the user to input the value to be converted.\n",
        "3. Perform the conversion and display the result.\n",
        "4. Handle potential errors, such as invalid input or unsupported conversion types.\n",
        "• Requirements:\n",
        "1. Functions: Define at least one function to perform the conversion.\n",
        "2. Error Handling: Use try-except blocks to handle invalid input (e.g., non-numeric values).\n",
        "3. User Input: Prompt the user to select the conversion type and input the value.\n",
        "4. Docstrings: Include a docstring in your function to describe its purpose, parameters, and\n",
        "return value.\n",
        "• Conversion Options:\n",
        "1. Length:\n",
        "– Convert meters (m) to feet (ft).\n",
        "– Convert feet (ft) to meters (m).\n",
        "2. Weight:\n",
        "– Convert kilograms (kg) to pounds (lbs).\n",
        "– Convert pounds (lbs) to kilograms (kg).\n",
        "3. Volume:\n",
        "– Convert liters (L) to gallons (gal).\n",
        "– Convert gallons (gal) to liters (L)."
      ],
      "metadata": {
        "id": "QnPooKFBqsOF"
      }
    },
    {
      "cell_type": "code",
      "execution_count": null,
      "metadata": {
        "colab": {
          "base_uri": "https://localhost:8080/"
        },
        "id": "cqKDgDCqnEvW",
        "outputId": "1a2ddf03-5e04-482d-b52e-57eb63a36b8d"
      },
      "outputs": [
        {
          "output_type": "stream",
          "name": "stdout",
          "text": [
            "Welcome to Unit Converter\n",
            "You can choose what to convert\n",
            "Enter 1 to convert length\n",
            "Enter 2 to convert weight\n",
            "Enter 3 to convert volume\n",
            "Enter a 1-3: 3\n",
            "Enter a valid value809\n",
            "Eneter L or Galgal\n",
            "The value has been converted from 809.0 to: 3062.3987402147086\n"
          ]
        }
      ],
      "source": [
        "def convert_length(value,unit):\n",
        "\n",
        "  \"\"\"\n",
        "  Converts length from m to ft and vice versa\n",
        "\n",
        "  parameters :\n",
        "  value -> float / int\n",
        "  unit -> str -> m | ft\n",
        "\n",
        "  returns a float\n",
        "\n",
        "  \"\"\"\n",
        "\n",
        "  assert(isinstance(value,int) or isinstance(value,float)),ValueError(\"Value should be float or an integer\")\n",
        "\n",
        "  operations = {\n",
        "      \"m\": value * 3.28084,\n",
        "      \"ft\": value / 3.28084\n",
        "  }\n",
        "\n",
        "  if(unit not in operations):\n",
        "    raise ValueError(\"Invalid Unit\")\n",
        "\n",
        "\n",
        "  return operations.get(unit)\n",
        "\n",
        "\n",
        "def convert_weight(value,unit):\n",
        "\n",
        "\n",
        "  \"\"\"\n",
        "  Converts weight from kg to lbs and vice versa\n",
        "\n",
        "  parameters :\n",
        "  value -> float | int\n",
        "  unit -> str -> kg | lbs\n",
        "\n",
        "  returns a float\n",
        "\n",
        "  \"\"\"\n",
        "\n",
        "  assert(isinstance(value,int) or isinstance(value,float)),ValueError(\"Value should be float or an integer\")\n",
        "\n",
        "  operations = {\n",
        "      \"kg\": value * 2.20462,\n",
        "      \"lbs\": value / 2.20462\n",
        "  }\n",
        "\n",
        "  if(unit not in operations):\n",
        "    raise ValueError(\"Invalid Unit\")\n",
        "\n",
        "  return operations.get(unit)\n",
        "\n",
        "\n",
        "def convert_volume(value,unit):\n",
        "\n",
        "\n",
        "  \"\"\"\n",
        "  Converts volume from l to gal and vice versa\n",
        "\n",
        "  parameters :\n",
        "  value -> float | int\n",
        "  unit -> str -> l | ft\n",
        "\n",
        "  returns a float\n",
        "\n",
        "  \"\"\"\n",
        "\n",
        "  assert(isinstance(value,int) or isinstance(value,float)),ValueError(\"Value should be float or an integer\")\n",
        "\n",
        "  operations = {\n",
        "      \"l\": value * 0.264172,\n",
        "      \"gal\": value / 0.264172\n",
        "  }\n",
        "\n",
        "  if(unit not in operations):\n",
        "    raise ValueError(\"Invalid Unit\")\n",
        "\n",
        "  return operations.get(unit)\n",
        "\n",
        "\n",
        "def main():\n",
        "\n",
        "\n",
        "  \"\"\"\n",
        "    Main function to handle all the user inputs and validations\n",
        "\n",
        "  \"\"\"\n",
        "\n",
        "  choices = [1,2,3]\n",
        "\n",
        "  print(\"Welcome to Unit Converter\")\n",
        "  print(\"You can choose what to convert\")\n",
        "  print(\"Enter 1 to convert length\")\n",
        "  print(\"Enter 2 to convert weight\")\n",
        "  print(\"Enter 3 to convert volume\")\n",
        "\n",
        "  user_choice = 0\n",
        "\n",
        "  conversions = {\n",
        "    1: \"Enter m or ft\",\n",
        "    2: \"Enter kg or lbs\",\n",
        "    3: \"Enter l or gal\"\n",
        "  }\n",
        "\n",
        "  conversion_functions = {\n",
        "    1: convert_length,\n",
        "    2: convert_weight,\n",
        "    3: convert_volume\n",
        "  }\n",
        "\n",
        "\n",
        "  while True:\n",
        "    try:\n",
        "\n",
        "      user_choice = int(input(\"Enter a 1-3: \"))\n",
        "\n",
        "      if user_choice not in choices:\n",
        "        raise ValueError(\"Not a valid choice enter different choice\")\n",
        "\n",
        "\n",
        "      value = float(input(\"Enter a valid value\"))\n",
        "\n",
        "      unit = input(conversions.get(user_choice)).strip().lower()\n",
        "\n",
        "      result = conversion_functions.get(user_choice)(value,unit)\n",
        "\n",
        "      print(f\"The value has been converted from {value} to: {result}\")\n",
        "      return\n",
        "\n",
        "    except ValueError as ve:\n",
        "      print(f\"Error: {ve} \")\n",
        "\n",
        "    except AssertionError as ae:\n",
        "      print(f\"Error: {ae}\")\n",
        "\n",
        "\n",
        "main()\n"
      ]
    },
    {
      "cell_type": "markdown",
      "source": [
        "#Task - 2:\n",
        "Create a Python program that performs various mathematical operations on a list of numbers.\n",
        "• The Program should:\n",
        "1. Prompt the user to choose an operation (e.g., find the sum, average, maximum, or minimum\n",
        "of the numbers).\n",
        "2. Ask the user to input a list of numbers (separated by spaces).\n",
        "\n",
        "18\n",
        "\n",
        "6CS012 Worksheet - 0 Siman Giri\n",
        "\n",
        "3. Perform the selected operation and display the result.\n",
        "4. Handle potential errors, such as invalid input or empty lists.\n",
        "• Requirements:\n",
        "\n",
        "1. Functions: Define at least one function for each operation (sum, average, maximum, mini-\n",
        "mum).\n",
        "\n",
        "2. Error Handling: Use try-except blocks to handle invalid input (e.g., non-numeric values or\n",
        "empty lists).\n",
        "3. User Input: Prompt the user to select the operation and input the list of numbers.\n",
        "4. Docstrings: Include a docstring in each function to describe its purpose, parameters, and\n",
        "return value."
      ],
      "metadata": {
        "id": "iuOOW9q3xxCA"
      }
    },
    {
      "cell_type": "code",
      "source": [
        "def find_sum(arr):\n",
        "\n",
        "  \"\"\"\n",
        "  Sums an list of numbers\n",
        "  \"\"\"\n",
        "  sum = 0\n",
        "  for e in arr:\n",
        "    sum = sum + e\n",
        "  return sum\n",
        "\n",
        "\n",
        "def find_average(arr):\n",
        "\n",
        "  \"\"\"\n",
        "  Finds the average of all the numbers in the list\n",
        "  \"\"\"\n",
        "  sum = find_sum(arr)\n",
        "\n",
        "  avg = sum / len(arr)\n",
        "\n",
        "  return avg\n",
        "\n",
        "def find_max(arr):\n",
        "\n",
        "\n",
        "  \"\"\"\n",
        "  Finds the maximum value in an array\n",
        "  \"\"\"\n",
        "  max = arr[0]\n",
        "\n",
        "  for e in arr:\n",
        "    if e > max:\n",
        "      max = e\n",
        "\n",
        "  return max\n",
        "\n",
        "def find_min(arr):\n",
        "\n",
        "  \"\"\"\n",
        "  Finds the mainimum value in an array\n",
        "  \"\"\"\n",
        "\n",
        "\n",
        "  min = arr[0]\n",
        "\n",
        "  for e in arr:\n",
        "    if e < min:\n",
        "      min = e\n",
        "  return min\n",
        "\n",
        "\n",
        "def main():\n",
        "\n",
        "  \"\"\"\n",
        "  Main function to handle all the user inputs and validations\n",
        "  \"\"\"\n",
        "  user_input = input(\"Enter list of numbers with spaces seprating each number:\")\n",
        "\n",
        "  numbers = list()\n",
        "  try:\n",
        "    numbers = [int(num) for num in user_input.split()]\n",
        "  except ValueError as e:\n",
        "    print(\"The numbers should be valid\")\n",
        "    return\n",
        "\n",
        "  print(\"Enter 1 to find sum\")\n",
        "  print(\"Enter 2 to find average\")\n",
        "  print(\"Enter 3 to find maximum\")\n",
        "  print(\"Enter 4 to find minimum\")\n",
        "\n",
        "  choices = [1,2,3,4]\n",
        "\n",
        "  operations = {\n",
        "      1: find_sum,\n",
        "      2: find_average,\n",
        "      3: find_max,\n",
        "      4: find_min\n",
        "  }\n",
        "\n",
        "  choice = 0\n",
        "  try:\n",
        "    choice = int(input(\"Enter a choice: \"))\n",
        "\n",
        "    if choice not in choices:\n",
        "      print(\"Invalid choice\")\n",
        "      return\n",
        "  except:\n",
        "    print(\"Enter a number as a choice\")\n",
        "    return\n",
        "\n",
        "  result = operations.get(choice)(numbers)\n",
        "\n",
        "  print(f\"The result is: {result}\")\n",
        "\n",
        "main()\n",
        "\n",
        "\n"
      ],
      "metadata": {
        "colab": {
          "base_uri": "https://localhost:8080/"
        },
        "id": "QdAE6RVbxwrK",
        "outputId": "9f547907-c42d-468e-8807-16ff113fd8f0"
      },
      "execution_count": null,
      "outputs": [
        {
          "output_type": "stream",
          "name": "stdout",
          "text": [
            "Enter list of numbers with spaces seprating each number:7 43 23 2 5 55 88 902 \n",
            "Enter 1 to find sum\n",
            "Enter 2 to find average\n",
            "Enter 3 to find maximum\n",
            "Enter 4 to find minimum\n",
            "Enter a choice: 1\n",
            "The result is: 1125\n"
          ]
        }
      ]
    },
    {
      "cell_type": "markdown",
      "source": [
        "# List operations"
      ],
      "metadata": {
        "id": "6MDovto499PB"
      }
    },
    {
      "cell_type": "code",
      "source": [
        "def extract_every_other(lst):\n",
        "  return lst[::2]\n",
        "\n",
        "extract_every_other([1,2,3,4,5,6])"
      ],
      "metadata": {
        "colab": {
          "base_uri": "https://localhost:8080/"
        },
        "id": "k9DO3jAF94hC",
        "outputId": "292c43fc-2923-4bbd-8582-49a6600d0dd6"
      },
      "execution_count": null,
      "outputs": [
        {
          "output_type": "execute_result",
          "data": {
            "text/plain": [
              "[1, 3, 5]"
            ]
          },
          "metadata": {},
          "execution_count": 25
        }
      ]
    },
    {
      "cell_type": "code",
      "source": [
        "def get_sublist(lst,start,end):\n",
        "  return lst[start:end+1]\n",
        "\n",
        "get_sublist([1,2,3,4,5,6],2,4)"
      ],
      "metadata": {
        "colab": {
          "base_uri": "https://localhost:8080/"
        },
        "id": "lUdgtrzc-bGa",
        "outputId": "1e8efb03-6e00-4f30-8887-df51744c7b4a"
      },
      "execution_count": null,
      "outputs": [
        {
          "output_type": "execute_result",
          "data": {
            "text/plain": [
              "[3, 4, 5]"
            ]
          },
          "metadata": {},
          "execution_count": 33
        }
      ]
    },
    {
      "cell_type": "code",
      "source": [
        "def reverse_list(lst):\n",
        "  return lst[::-1]\n",
        "\n",
        "reverse_list([1,2,3,4,5])"
      ],
      "metadata": {
        "colab": {
          "base_uri": "https://localhost:8080/"
        },
        "id": "RcEp3L78-uTe",
        "outputId": "277da50d-2b90-4d8d-b4d6-1d5c88f13c00"
      },
      "execution_count": null,
      "outputs": [
        {
          "output_type": "execute_result",
          "data": {
            "text/plain": [
              "[5, 4, 3, 2, 1]"
            ]
          },
          "metadata": {},
          "execution_count": 36
        }
      ]
    },
    {
      "cell_type": "code",
      "source": [
        "def remove_first_last(lst):\n",
        "  return lst[1:-1]\n",
        "\n",
        "remove_first_last([1,2,3,4,5])"
      ],
      "metadata": {
        "colab": {
          "base_uri": "https://localhost:8080/"
        },
        "id": "W4uHvdyy-2ft",
        "outputId": "6ff0b823-e18c-4bba-ba84-ee5612cf330f"
      },
      "execution_count": null,
      "outputs": [
        {
          "output_type": "execute_result",
          "data": {
            "text/plain": [
              "[2, 3, 4]"
            ]
          },
          "metadata": {},
          "execution_count": 41
        }
      ]
    },
    {
      "cell_type": "code",
      "source": [
        "def get_last_n(lst,n):\n",
        "  return lst[-n:]\n",
        "\n",
        "get_last_n([1,2,3,4,5],2)"
      ],
      "metadata": {
        "colab": {
          "base_uri": "https://localhost:8080/"
        },
        "id": "ERZo8xyL_BBC",
        "outputId": "2941387c-4557-4e59-f1f2-83e78d07a07d"
      },
      "execution_count": null,
      "outputs": [
        {
          "output_type": "execute_result",
          "data": {
            "text/plain": [
              "[4, 5]"
            ]
          },
          "metadata": {},
          "execution_count": 44
        }
      ]
    },
    {
      "cell_type": "code",
      "source": [
        "def reverse_skip(lst):\n",
        "  return lst[::-1][::2]\n",
        "\n",
        "reverse_skip([1,2,3,4,5])"
      ],
      "metadata": {
        "colab": {
          "base_uri": "https://localhost:8080/"
        },
        "id": "Wzbl9BWb_SSQ",
        "outputId": "5a2cebdf-8800-48de-bf02-dd4dae5128a6"
      },
      "execution_count": null,
      "outputs": [
        {
          "output_type": "execute_result",
          "data": {
            "text/plain": [
              "[5, 3, 1]"
            ]
          },
          "metadata": {},
          "execution_count": 68
        }
      ]
    },
    {
      "cell_type": "code",
      "source": [
        "def flatten(lst):\n",
        "  flat_list = []\n",
        "  for e in lst:\n",
        "    if isinstance(e,list):\n",
        "      flat_list.extend(flatten(e))\n",
        "    else:\n",
        "      flat_list.append(e)\n",
        "  return flat_list\n",
        "\n",
        "flatten([[1,2],[3,4],[5]])"
      ],
      "metadata": {
        "colab": {
          "base_uri": "https://localhost:8080/"
        },
        "id": "MCSDAqap__kb",
        "outputId": "19b4977b-7adc-4d94-a842-78a9116862f8"
      },
      "execution_count": null,
      "outputs": [
        {
          "output_type": "execute_result",
          "data": {
            "text/plain": [
              "[1, 2, 3, 4, 5]"
            ]
          },
          "metadata": {},
          "execution_count": 72
        }
      ]
    },
    {
      "cell_type": "code",
      "source": [
        "def access_nested_element(lst, indices):\n",
        "  return lst[indices[0]][indices[1]]\n",
        "\n",
        "lst = [[1, 2, 3], [4, 5, 6], [7, 8, 9]]\n",
        "\n",
        "access_nested_element(lst,[1,2])"
      ],
      "metadata": {
        "colab": {
          "base_uri": "https://localhost:8080/"
        },
        "id": "LqMT5CBEAaGR",
        "outputId": "2991328d-79ce-41e4-b7a8-3a4026cd8840"
      },
      "execution_count": null,
      "outputs": [
        {
          "output_type": "execute_result",
          "data": {
            "text/plain": [
              "6"
            ]
          },
          "metadata": {},
          "execution_count": 74
        }
      ]
    },
    {
      "cell_type": "code",
      "source": [
        "def sum_nester(lst):\n",
        "  sum = 0\n",
        "  for e in lst:\n",
        "    if isinstance(e,list):\n",
        "      sum += sum_nester(e)\n",
        "    else:\n",
        "      sum += e\n",
        "  return sum\n",
        "\n",
        "sum_nester([[1, 2], [3, [4, 5]], 6])"
      ],
      "metadata": {
        "colab": {
          "base_uri": "https://localhost:8080/"
        },
        "id": "8PzzRJo1A38D",
        "outputId": "94a67cc8-9dd7-4602-bf44-252f517e19f0"
      },
      "execution_count": null,
      "outputs": [
        {
          "output_type": "execute_result",
          "data": {
            "text/plain": [
              "21"
            ]
          },
          "metadata": {},
          "execution_count": 75
        }
      ]
    },
    {
      "cell_type": "code",
      "source": [
        "def remove_element(lst,element):\n",
        "  for e in lst:\n",
        "    if isinstance(e,list):\n",
        "      remove_element(e,element)\n",
        "    else:\n",
        "      if e == element:\n",
        "        lst.remove(e)\n",
        "  return lst\n",
        "\n",
        "remove_element([[1, 2], [3, 2], [4, 5]],2)"
      ],
      "metadata": {
        "colab": {
          "base_uri": "https://localhost:8080/"
        },
        "id": "tj9pm1c8BBNL",
        "outputId": "48c8b8a8-c803-481f-ddb5-8e47e1951082"
      },
      "execution_count": null,
      "outputs": [
        {
          "output_type": "execute_result",
          "data": {
            "text/plain": [
              "[[1], [3], [4, 5]]"
            ]
          },
          "metadata": {},
          "execution_count": 77
        }
      ]
    },
    {
      "cell_type": "code",
      "source": [
        "def find_max(lst):\n",
        "\n",
        "  flat_list = flatten(lst)\n",
        "\n",
        "  return max(flat_list)\n",
        "\n",
        "find_max([[1, 2], [3, [4, 5]], 6])"
      ],
      "metadata": {
        "colab": {
          "base_uri": "https://localhost:8080/"
        },
        "id": "h2MIV6cfBecR",
        "outputId": "e7169bbe-4c14-412e-ae9a-6c053070081a"
      },
      "execution_count": null,
      "outputs": [
        {
          "output_type": "execute_result",
          "data": {
            "text/plain": [
              "6"
            ]
          },
          "metadata": {},
          "execution_count": 80
        }
      ]
    },
    {
      "cell_type": "code",
      "source": [
        "def count_occurences(lst,elem):\n",
        "  occ = 0\n",
        "\n",
        "  for e in lst:\n",
        "    if isinstance(e,list):\n",
        "      occ += count_occurences(e,elem)\n",
        "    else:\n",
        "      if e == elem:\n",
        "        occ += 1\n",
        "  return occ\n",
        "\n",
        "count_occurences([[1, 2], [2, 3], [2, 4]],2)"
      ],
      "metadata": {
        "colab": {
          "base_uri": "https://localhost:8080/"
        },
        "id": "IEfO4QwoB9z4",
        "outputId": "462442a1-d51d-45b0-a39e-9a2027c5f109"
      },
      "execution_count": null,
      "outputs": [
        {
          "output_type": "execute_result",
          "data": {
            "text/plain": [
              "3"
            ]
          },
          "metadata": {},
          "execution_count": 81
        }
      ]
    },
    {
      "cell_type": "code",
      "source": [
        "def deep_flatten(lst):\n",
        "  flat_list = []\n",
        "  for e in lst:\n",
        "    if isinstance(e,list):\n",
        "      flat_list.extend(deep_flatten(e))\n",
        "    else:\n",
        "      flat_list.append(e)\n",
        "  return flat_list\n",
        "\n",
        "deep_flatten([[[1, 2], [3, 4]], [[5, 6], [7, 8]]])"
      ],
      "metadata": {
        "colab": {
          "base_uri": "https://localhost:8080/"
        },
        "id": "QN_lVwn8CaXy",
        "outputId": "c143b7be-678c-43f9-e3a5-bea10d44fdf3"
      },
      "execution_count": null,
      "outputs": [
        {
          "output_type": "execute_result",
          "data": {
            "text/plain": [
              "[1, 2, 3, 4, 5, 6, 7, 8]"
            ]
          },
          "metadata": {},
          "execution_count": 82
        }
      ]
    },
    {
      "cell_type": "code",
      "source": [
        "def average_nested(lst):\n",
        "  avg = 0\n",
        "  flat_list = deep_flatten(lst)\n",
        "\n",
        "  total = sum(flat_list)\n",
        "\n",
        "  return total / len(flat_list)\n",
        "\n",
        "average_nested([[1, 2], [3, 4], [5, 6]])"
      ],
      "metadata": {
        "colab": {
          "base_uri": "https://localhost:8080/"
        },
        "id": "69iReW_2CosO",
        "outputId": "ae6f1254-32d0-42ed-8a16-0cf6e099604a"
      },
      "execution_count": null,
      "outputs": [
        {
          "output_type": "execute_result",
          "data": {
            "text/plain": [
              "3.5"
            ]
          },
          "metadata": {},
          "execution_count": 85
        }
      ]
    },
    {
      "cell_type": "markdown",
      "source": [
        "# TODO NUMPY"
      ],
      "metadata": {
        "id": "WWC74RLRDhLi"
      }
    },
    {
      "cell_type": "code",
      "source": [
        "import numpy as np\n"
      ],
      "metadata": {
        "id": "kaZjLF-91t6C"
      },
      "execution_count": 2,
      "outputs": []
    },
    {
      "cell_type": "markdown",
      "source": [
        "Initialize an empty array with size 2X2."
      ],
      "metadata": {
        "id": "Vg7IMw8c1gnT"
      }
    },
    {
      "cell_type": "code",
      "source": [
        "array = np.empty((2,2))\n",
        "array"
      ],
      "metadata": {
        "id": "MNdQaE3RC-hM",
        "colab": {
          "base_uri": "https://localhost:8080/"
        },
        "outputId": "b4ad8d6c-a930-4b51-ca64-234cec1b53e4"
      },
      "execution_count": 3,
      "outputs": [
        {
          "output_type": "execute_result",
          "data": {
            "text/plain": [
              "array([[2.64498706e-316, 0.00000000e+000],\n",
              "       [0.00000000e+000, 0.00000000e+000]])"
            ]
          },
          "metadata": {},
          "execution_count": 3
        }
      ]
    },
    {
      "cell_type": "markdown",
      "source": [
        "Initialize an all one array with size 4X2."
      ],
      "metadata": {
        "id": "-A0cVDjr1yGm"
      }
    },
    {
      "cell_type": "code",
      "source": [
        "array = np.ones((4,2))\n",
        "array"
      ],
      "metadata": {
        "colab": {
          "base_uri": "https://localhost:8080/"
        },
        "id": "ePIwnJEC10C0",
        "outputId": "7851bb03-9b93-4c04-e16e-57d865aed696"
      },
      "execution_count": 11,
      "outputs": [
        {
          "output_type": "execute_result",
          "data": {
            "text/plain": [
              "array([[1., 1.],\n",
              "       [1., 1.],\n",
              "       [1., 1.],\n",
              "       [1., 1.]])"
            ]
          },
          "metadata": {},
          "execution_count": 11
        }
      ]
    },
    {
      "cell_type": "markdown",
      "source": [
        "Return a new array of given shape and type, filled with fill value.{Hint: np.full}"
      ],
      "metadata": {
        "id": "uxbSnnOz14FK"
      }
    },
    {
      "cell_type": "code",
      "source": [
        "def full_array(shape,fill_value):\n",
        "  return np.full(shape,fill_value)\n",
        "\n",
        "full_array((2,2),3)"
      ],
      "metadata": {
        "colab": {
          "base_uri": "https://localhost:8080/"
        },
        "id": "GBVC76tI15uo",
        "outputId": "bb19684b-1f27-4e87-d845-eb1594927081"
      },
      "execution_count": 8,
      "outputs": [
        {
          "output_type": "execute_result",
          "data": {
            "text/plain": [
              "array([[3, 3],\n",
              "       [3, 3]])"
            ]
          },
          "metadata": {},
          "execution_count": 8
        }
      ]
    },
    {
      "cell_type": "markdown",
      "source": [
        "Return a new array of zeros with same shape and type as a given array.{Hint: np.zeros like}"
      ],
      "metadata": {
        "id": "Jx_gwD2d2D69"
      }
    },
    {
      "cell_type": "code",
      "source": [
        "def zeros_like(array):\n",
        "  return np.zeros_like(array)\n",
        "\n",
        "zeros_like(array)"
      ],
      "metadata": {
        "colab": {
          "base_uri": "https://localhost:8080/"
        },
        "id": "l_RvnlGs2Dlc",
        "outputId": "1086e0c9-679b-4348-e787-96b17ec05e3f"
      },
      "execution_count": 12,
      "outputs": [
        {
          "output_type": "execute_result",
          "data": {
            "text/plain": [
              "array([[0., 0.],\n",
              "       [0., 0.],\n",
              "       [0., 0.],\n",
              "       [0., 0.]])"
            ]
          },
          "metadata": {},
          "execution_count": 12
        }
      ]
    },
    {
      "cell_type": "markdown",
      "source": [
        "Return a new array of ones with same shape and type as a given array.{Hint: np.ones like}"
      ],
      "metadata": {
        "id": "VakvIhn-2PbS"
      }
    },
    {
      "cell_type": "code",
      "source": [
        "def ones_like(array):\n",
        "  return np.ones_like(array)\n",
        "\n",
        "ones_like(array)"
      ],
      "metadata": {
        "colab": {
          "base_uri": "https://localhost:8080/"
        },
        "id": "6eo5V27y2Q8L",
        "outputId": "2827cfdb-e8f8-43ce-babf-e29d7dcfdf71"
      },
      "execution_count": 13,
      "outputs": [
        {
          "output_type": "execute_result",
          "data": {
            "text/plain": [
              "array([[1., 1.],\n",
              "       [1., 1.],\n",
              "       [1., 1.],\n",
              "       [1., 1.]])"
            ]
          },
          "metadata": {},
          "execution_count": 13
        }
      ]
    },
    {
      "cell_type": "markdown",
      "source": [
        "For an existing list new_list = [1,2,3,4] convert to an numpy array.{Hint: np.array()}"
      ],
      "metadata": {
        "id": "PlYDjC412eBT"
      }
    },
    {
      "cell_type": "code",
      "source": [
        "new_list = [1,2,3,4]\n",
        "\n",
        "np_array = np.array(new_list)\n",
        "\n",
        "np_array"
      ],
      "metadata": {
        "colab": {
          "base_uri": "https://localhost:8080/"
        },
        "id": "26k8-zf_2cZd",
        "outputId": "3390c3ef-6e61-4d8f-a88c-42691a13c3d8"
      },
      "execution_count": 14,
      "outputs": [
        {
          "output_type": "execute_result",
          "data": {
            "text/plain": [
              "array([1, 2, 3, 4])"
            ]
          },
          "metadata": {},
          "execution_count": 14
        }
      ]
    },
    {
      "cell_type": "markdown",
      "source": [
        "1. Create an array with values ranging from 10 to 49. {Hint:np.arrange()}."
      ],
      "metadata": {
        "id": "cUXTvLRu2msi"
      }
    },
    {
      "cell_type": "code",
      "source": [
        "array_with_range = np.arange(10,50)\n",
        "array_with_range"
      ],
      "metadata": {
        "colab": {
          "base_uri": "https://localhost:8080/"
        },
        "id": "e_uIG4Gp2nQx",
        "outputId": "6c4dedb6-5623-488e-cab3-823acd745c2a"
      },
      "execution_count": 15,
      "outputs": [
        {
          "output_type": "execute_result",
          "data": {
            "text/plain": [
              "array([10, 11, 12, 13, 14, 15, 16, 17, 18, 19, 20, 21, 22, 23, 24, 25, 26,\n",
              "       27, 28, 29, 30, 31, 32, 33, 34, 35, 36, 37, 38, 39, 40, 41, 42, 43,\n",
              "       44, 45, 46, 47, 48, 49])"
            ]
          },
          "metadata": {},
          "execution_count": 15
        }
      ]
    },
    {
      "cell_type": "markdown",
      "source": [
        "Create a 3X3 matrix with values ranging from 0 to 8.\n",
        "{Hint:look for np.reshape()}"
      ],
      "metadata": {
        "id": "YOccBT1L2yMG"
      }
    },
    {
      "cell_type": "code",
      "source": [
        "matrix = np.arange(0,9).reshape(3,3)\n",
        "matrix"
      ],
      "metadata": {
        "colab": {
          "base_uri": "https://localhost:8080/"
        },
        "id": "Sk82ghux2xkX",
        "outputId": "9478bd99-d6fc-4192-c35a-a81c167fc3f3"
      },
      "execution_count": 16,
      "outputs": [
        {
          "output_type": "execute_result",
          "data": {
            "text/plain": [
              "array([[0, 1, 2],\n",
              "       [3, 4, 5],\n",
              "       [6, 7, 8]])"
            ]
          },
          "metadata": {},
          "execution_count": 16
        }
      ]
    },
    {
      "cell_type": "markdown",
      "source": [
        "Create a 3X3 identity matrix.{Hint:np.eye()}"
      ],
      "metadata": {
        "id": "MfZmTBIg25H1"
      }
    },
    {
      "cell_type": "code",
      "source": [
        "eye = np.eye(3)\n",
        "eye"
      ],
      "metadata": {
        "colab": {
          "base_uri": "https://localhost:8080/"
        },
        "id": "XGF3PZmN24pY",
        "outputId": "9787a3f1-94fc-489f-b15e-593a0bd89cad"
      },
      "execution_count": 17,
      "outputs": [
        {
          "output_type": "execute_result",
          "data": {
            "text/plain": [
              "array([[1., 0., 0.],\n",
              "       [0., 1., 0.],\n",
              "       [0., 0., 1.]])"
            ]
          },
          "metadata": {},
          "execution_count": 17
        }
      ]
    },
    {
      "cell_type": "markdown",
      "source": [
        "Create a random array of size 30 and find the mean of the array.\n",
        "{Hint:check for np.random.random() and array.mean() function}"
      ],
      "metadata": {
        "id": "yizolitM29dT"
      }
    },
    {
      "cell_type": "code",
      "source": [
        "random_array = np.random.random(30)\n",
        "random_array.mean()"
      ],
      "metadata": {
        "colab": {
          "base_uri": "https://localhost:8080/"
        },
        "id": "pVVEr03a2_BI",
        "outputId": "a3240092-4cb0-4333-c960-7d5e6e77dad5"
      },
      "execution_count": 23,
      "outputs": [
        {
          "output_type": "execute_result",
          "data": {
            "text/plain": [
              "0.5077427511260922"
            ]
          },
          "metadata": {},
          "execution_count": 23
        }
      ]
    },
    {
      "cell_type": "markdown",
      "source": [
        "Create a 10X10 array with random values and find the minimum and maximum values."
      ],
      "metadata": {
        "id": "z_lmBgrE3GxR"
      }
    },
    {
      "cell_type": "code",
      "source": [
        "ten_ten_mat = np.random.random(100).reshape(10,10)\n",
        "\n",
        "print(f\"The maximum value is {np.max(ten_ten_mat)} the minimum value is {np.min(ten_ten_mat)}\")"
      ],
      "metadata": {
        "colab": {
          "base_uri": "https://localhost:8080/"
        },
        "id": "uyTnyxMb3IPR",
        "outputId": "390bb60d-e164-4918-9160-a597e8d034ea"
      },
      "execution_count": 24,
      "outputs": [
        {
          "output_type": "stream",
          "name": "stdout",
          "text": [
            "The maximum value is 0.9827730323625011 the minimum value is 0.0191135083667221\n"
          ]
        }
      ]
    },
    {
      "cell_type": "markdown",
      "source": [
        "Create a zero array of size 10 and replace 5th element with 1."
      ],
      "metadata": {
        "id": "2vwaBx0i3amQ"
      }
    },
    {
      "cell_type": "code",
      "source": [
        "zero_array = np.zeros(10)\n",
        "zero_array[4] = 1\n",
        "zero_array"
      ],
      "metadata": {
        "colab": {
          "base_uri": "https://localhost:8080/"
        },
        "id": "Zjqdg3UK3c48",
        "outputId": "ed1dad69-3129-4ee6-8564-b3fe083b28a3"
      },
      "execution_count": 26,
      "outputs": [
        {
          "output_type": "execute_result",
          "data": {
            "text/plain": [
              "array([0., 0., 0., 0., 1., 0., 0., 0., 0., 0.])"
            ]
          },
          "metadata": {},
          "execution_count": 26
        }
      ]
    },
    {
      "cell_type": "markdown",
      "source": [
        "Reverse an array arr = [1,2,0,0,4,0]."
      ],
      "metadata": {
        "id": "n_yjcfWq3i3u"
      }
    },
    {
      "cell_type": "code",
      "source": [
        "arr = [1,2,0,0,4,0]\n",
        "np_arr = np.array(arr)\n",
        "np_arr[::-1]"
      ],
      "metadata": {
        "colab": {
          "base_uri": "https://localhost:8080/"
        },
        "id": "B9EpS05H3ilF",
        "outputId": "83521eaa-cef9-46bf-c184-617ec506b74c"
      },
      "execution_count": 30,
      "outputs": [
        {
          "output_type": "execute_result",
          "data": {
            "text/plain": [
              "array([0, 4, 0, 0, 2, 1])"
            ]
          },
          "metadata": {},
          "execution_count": 30
        }
      ]
    },
    {
      "cell_type": "markdown",
      "source": [
        "Create a 2d array with 1 on border and 0 inside."
      ],
      "metadata": {
        "id": "5MXUL_s435AB"
      }
    },
    {
      "cell_type": "code",
      "source": [
        "def create_borderd_array(size):\n",
        "  array = np.ones((size,size))\n",
        "  array[1:-1,1:-1] = 0\n",
        "  return array\n",
        "\n",
        "create_borderd_array(4)"
      ],
      "metadata": {
        "colab": {
          "base_uri": "https://localhost:8080/"
        },
        "id": "BVMeIIV536ZR",
        "outputId": "f632fbe9-27ed-4f27-b2c2-e4eb1c798213"
      },
      "execution_count": 34,
      "outputs": [
        {
          "output_type": "execute_result",
          "data": {
            "text/plain": [
              "array([[1., 1., 1., 1.],\n",
              "       [1., 0., 0., 1.],\n",
              "       [1., 0., 0., 1.],\n",
              "       [1., 1., 1., 1.]])"
            ]
          },
          "metadata": {},
          "execution_count": 34
        }
      ]
    },
    {
      "cell_type": "markdown",
      "source": [
        "Create a 8X8 matrix and fill it with a checkerboard pattern."
      ],
      "metadata": {
        "id": "eWnUgC2a4Hox"
      }
    },
    {
      "cell_type": "code",
      "source": [
        "def checkerboard_matrix(size):\n",
        "  array = np.ones((size,size))\n",
        "  array[::2,::2] = 0\n",
        "  array[1::2,1::2] = 0\n",
        "  return array\n",
        "\n",
        "checkerboard_matrix(5)"
      ],
      "metadata": {
        "colab": {
          "base_uri": "https://localhost:8080/"
        },
        "id": "HXSGKJh94HK8",
        "outputId": "08aa8e5f-fdff-4717-e91a-ccb24abc10b5"
      },
      "execution_count": 39,
      "outputs": [
        {
          "output_type": "execute_result",
          "data": {
            "text/plain": [
              "array([[0., 1., 0., 1., 0.],\n",
              "       [1., 0., 1., 0., 1.],\n",
              "       [0., 1., 0., 1., 0.],\n",
              "       [1., 0., 1., 0., 1.],\n",
              "       [0., 1., 0., 1., 0.]])"
            ]
          },
          "metadata": {},
          "execution_count": 39
        }
      ]
    },
    {
      "cell_type": "markdown",
      "source": [
        "For the following arrays:\n",
        "x = np.array([[1,2],[3,5]]) and y = np.array([[5,6],[7,8]]);\n",
        "v = np.array([9,10]) and w = np.array([11,12]);"
      ],
      "metadata": {
        "id": "it83lHdz4rG7"
      }
    },
    {
      "cell_type": "code",
      "source": [
        "x = np.array([[1,2],[3,5]])\n",
        "y = np.array([[5,6],[7,8]]);\n",
        "v = np.array([9,10])\n",
        "w = np.array([11,12]);"
      ],
      "metadata": {
        "id": "9nm5ZVB84sEB"
      },
      "execution_count": 41,
      "outputs": []
    },
    {
      "cell_type": "code",
      "source": [
        "def add_arrays(x,y):\n",
        "  return x + y\n",
        "\n",
        "add_arrays(x,y)"
      ],
      "metadata": {
        "colab": {
          "base_uri": "https://localhost:8080/"
        },
        "id": "RyOYMjGl4xO-",
        "outputId": "1bbc84be-c83d-452c-9886-029ff074dd6c"
      },
      "execution_count": 42,
      "outputs": [
        {
          "output_type": "execute_result",
          "data": {
            "text/plain": [
              "array([[ 6,  8],\n",
              "       [10, 13]])"
            ]
          },
          "metadata": {},
          "execution_count": 42
        }
      ]
    },
    {
      "cell_type": "code",
      "source": [
        "def sub_arrays(x,y):\n",
        "  return x - y\n",
        "\n",
        "sub_arrays(x,y)"
      ],
      "metadata": {
        "colab": {
          "base_uri": "https://localhost:8080/"
        },
        "id": "cAtnP5sR5IXQ",
        "outputId": "5238848b-fc79-4ca4-cf05-f0e767cff133"
      },
      "execution_count": 43,
      "outputs": [
        {
          "output_type": "execute_result",
          "data": {
            "text/plain": [
              "array([[-4, -4],\n",
              "       [-4, -3]])"
            ]
          },
          "metadata": {},
          "execution_count": 43
        }
      ]
    },
    {
      "cell_type": "code",
      "source": [
        "def mult_arrays(x,y):\n",
        "  return x * y\n",
        "\n",
        "mult_arrays(x,y)"
      ],
      "metadata": {
        "colab": {
          "base_uri": "https://localhost:8080/"
        },
        "id": "vuhc_4bO5LFz",
        "outputId": "877f469f-1096-46a5-a0c7-35ee737a8086"
      },
      "execution_count": 45,
      "outputs": [
        {
          "output_type": "execute_result",
          "data": {
            "text/plain": [
              "array([[ 5, 12],\n",
              "       [21, 40]])"
            ]
          },
          "metadata": {},
          "execution_count": 45
        }
      ]
    },
    {
      "cell_type": "code",
      "source": [
        "def sq_elements(x):\n",
        "  return x ** 2\n",
        "\n",
        "sq_elements(x)"
      ],
      "metadata": {
        "colab": {
          "base_uri": "https://localhost:8080/"
        },
        "id": "y3QN-gXK5NKp",
        "outputId": "64d3eec1-7417-4d57-a3c5-8aedb337388e"
      },
      "execution_count": 46,
      "outputs": [
        {
          "output_type": "execute_result",
          "data": {
            "text/plain": [
              "array([[ 1,  4],\n",
              "       [ 9, 25]])"
            ]
          },
          "metadata": {},
          "execution_count": 46
        }
      ]
    },
    {
      "cell_type": "code",
      "source": [
        "xy_dot = np.dot(x,y)\n",
        "vw_dot = np.dot(v,w)\n",
        "\n",
        "print(f\"The dot product of x and y is {xy_dot} and the dot product of v and w is {vw_dot}\")"
      ],
      "metadata": {
        "colab": {
          "base_uri": "https://localhost:8080/"
        },
        "id": "0eh5TjwE5U0h",
        "outputId": "a7702bb8-0753-4bcd-c17b-f929460a1e47"
      },
      "execution_count": 48,
      "outputs": [
        {
          "output_type": "stream",
          "name": "stdout",
          "text": [
            "The dot product of x and y is [[19 22]\n",
            " [50 58]] and the dot product of v and w is 219\n"
          ]
        }
      ]
    },
    {
      "cell_type": "markdown",
      "source": [
        "Concatenate x(and)y along row and Concatenate v(and)w along column.\n",
        "{Hint:try np.concatenate() or np.vstack() functions."
      ],
      "metadata": {
        "id": "zjKCiGYJ5vVt"
      }
    },
    {
      "cell_type": "code",
      "source": [
        "concated = np.concatenate((x,y),axis=0)\n",
        "concated"
      ],
      "metadata": {
        "colab": {
          "base_uri": "https://localhost:8080/"
        },
        "id": "pxZJ4Vac5pP8",
        "outputId": "aed5a941-6111-4f73-bcd0-13ce0e25ccd0"
      },
      "execution_count": 49,
      "outputs": [
        {
          "output_type": "execute_result",
          "data": {
            "text/plain": [
              "array([[1, 2],\n",
              "       [3, 5],\n",
              "       [5, 6],\n",
              "       [7, 8]])"
            ]
          },
          "metadata": {},
          "execution_count": 49
        }
      ]
    },
    {
      "cell_type": "code",
      "source": [
        "stacked = np.vstack((v,w))\n",
        "stacked"
      ],
      "metadata": {
        "colab": {
          "base_uri": "https://localhost:8080/"
        },
        "id": "HW7JzkIb51U5",
        "outputId": "5e64ccbe-b4e0-44d1-a9d9-4a43670e81e3"
      },
      "execution_count": 52,
      "outputs": [
        {
          "output_type": "execute_result",
          "data": {
            "text/plain": [
              "array([[ 9, 10],\n",
              "       [11, 12]])"
            ]
          },
          "metadata": {},
          "execution_count": 52
        }
      ]
    },
    {
      "cell_type": "code",
      "source": [
        "conc_x_v = np.concatenate((x,v),axis=0)"
      ],
      "metadata": {
        "colab": {
          "base_uri": "https://localhost:8080/",
          "height": 141
        },
        "id": "qZq9CZ09590F",
        "outputId": "752fbc42-c3bb-4942-b90d-3b01208d76d5"
      },
      "execution_count": 53,
      "outputs": [
        {
          "output_type": "error",
          "ename": "ValueError",
          "evalue": "all the input arrays must have same number of dimensions, but the array at index 0 has 2 dimension(s) and the array at index 1 has 1 dimension(s)",
          "traceback": [
            "\u001b[0;31m---------------------------------------------------------------------------\u001b[0m",
            "\u001b[0;31mValueError\u001b[0m                                Traceback (most recent call last)",
            "\u001b[0;32m<ipython-input-53-1ae77d5225c8>\u001b[0m in \u001b[0;36m<cell line: 0>\u001b[0;34m()\u001b[0m\n\u001b[0;32m----> 1\u001b[0;31m \u001b[0mconc_x_v\u001b[0m \u001b[0;34m=\u001b[0m \u001b[0mnp\u001b[0m\u001b[0;34m.\u001b[0m\u001b[0mconcatenate\u001b[0m\u001b[0;34m(\u001b[0m\u001b[0;34m(\u001b[0m\u001b[0mx\u001b[0m\u001b[0;34m,\u001b[0m\u001b[0mv\u001b[0m\u001b[0;34m)\u001b[0m\u001b[0;34m,\u001b[0m\u001b[0maxis\u001b[0m\u001b[0;34m=\u001b[0m\u001b[0;36m0\u001b[0m\u001b[0;34m)\u001b[0m\u001b[0;34m\u001b[0m\u001b[0;34m\u001b[0m\u001b[0m\n\u001b[0m",
            "\u001b[0;31mValueError\u001b[0m: all the input arrays must have same number of dimensions, but the array at index 0 has 2 dimension(s) and the array at index 1 has 1 dimension(s)"
          ]
        }
      ]
    },
    {
      "cell_type": "markdown",
      "source": [
        "The dimension of both the supplied arrays should be equal to concatenate"
      ],
      "metadata": {
        "id": "vlFQjo6f6EfX"
      }
    },
    {
      "cell_type": "markdown",
      "source": [
        "A = np.array([[3,4],[7,8]]) and B = np.array([[5,3],[2,1]]);"
      ],
      "metadata": {
        "id": "Iup2O0Mv6N-K"
      }
    },
    {
      "cell_type": "code",
      "source": [
        "A = np.array([[3,4],[7,8]])\n",
        "B = np.array([[5,3],[2,1]])"
      ],
      "metadata": {
        "id": "NGMbe_hV6NY0"
      },
      "execution_count": 55,
      "outputs": []
    },
    {
      "cell_type": "markdown",
      "source": [
        "Prove A.A−1 = I."
      ],
      "metadata": {
        "id": "PGdiVgSi6TBn"
      }
    },
    {
      "cell_type": "code",
      "source": [
        "A_inv = np.linalg.inv(A)\n",
        "A_A_inv = np.dot(A,A_inv)\n",
        "I = np.eye(2)\n",
        "\n",
        "is_identity = np.allclose(A_A_inv,I)\n",
        "\n",
        "if is_identity:\n",
        "  print(\"A.A^ = I\")\n",
        "else:\n",
        "  print(\" A.A^ != I\")"
      ],
      "metadata": {
        "colab": {
          "base_uri": "https://localhost:8080/"
        },
        "id": "OBFa0AkR6UKn",
        "outputId": "636fc86c-9a7d-4607-82d8-fec3888b26a0"
      },
      "execution_count": 62,
      "outputs": [
        {
          "output_type": "stream",
          "name": "stdout",
          "text": [
            "A.A^ = I\n"
          ]
        }
      ]
    },
    {
      "cell_type": "markdown",
      "source": [
        "Prove AB ̸= BA."
      ],
      "metadata": {
        "id": "uo7eQcRW65a_"
      }
    },
    {
      "cell_type": "code",
      "source": [
        "AB = np.dot(A,B)\n",
        "BA = np.dot(B,A)\n",
        "\n",
        "is_equal = np.allclose(AB,BA)\n",
        "\n",
        "if is_equal:\n",
        "  print(\"AB == BA\")\n",
        "else:\n",
        "  print(\"AB != BA\")"
      ],
      "metadata": {
        "colab": {
          "base_uri": "https://localhost:8080/"
        },
        "id": "T-BOSt2H66oK",
        "outputId": "3b5c468b-91a0-44f8-e7cf-02f48e12a8b8"
      },
      "execution_count": 66,
      "outputs": [
        {
          "output_type": "stream",
          "name": "stdout",
          "text": [
            "AB != BA\n"
          ]
        }
      ]
    },
    {
      "cell_type": "markdown",
      "source": [
        "Prove (AB)\n",
        "\n",
        "T = BTAT\n",
        "."
      ],
      "metadata": {
        "id": "VOJX3wWr7Kld"
      }
    },
    {
      "cell_type": "code",
      "source": [
        "A_T = A.T\n",
        "B_T = B.T\n",
        "\n",
        "AB = np.dot(A,B)\n",
        "AB_T = AB.T\n",
        "BTAT = np.dot(B_T,A_T)\n",
        "\n",
        "is_equal = np.allclose(AB_T,BTAT)\n",
        "\n",
        "if is_equal:\n",
        "  print(\"(AB)^T == BTAT\")\n",
        "else:\n",
        "  print(\"(AB)^T != BTAT\")\n"
      ],
      "metadata": {
        "colab": {
          "base_uri": "https://localhost:8080/"
        },
        "id": "6CTp33zz7MfO",
        "outputId": "b4ecfdb7-6b2e-4cda-c698-719acc30deee"
      },
      "execution_count": 75,
      "outputs": [
        {
          "output_type": "stream",
          "name": "stdout",
          "text": [
            "(AB)^T == BTAT\n"
          ]
        }
      ]
    },
    {
      "cell_type": "markdown",
      "source": [
        "2x − 3y + z = −1\n",
        "x − y + 2z = −3\n",
        "3x + y − z = 9"
      ],
      "metadata": {
        "id": "EDXA9QDp7xXa"
      }
    },
    {
      "cell_type": "code",
      "source": [
        "# solving by inverse matrix method X = AinvB\n",
        "\n",
        "a = np.array([[2,-3,1],[1,-1,2],[3,1,-1]])\n",
        "b = np.array([-1,-3,9]).T\n",
        "\n",
        "x = np.dot(np.linalg.inv(a),b)\n",
        "\n",
        "print(f\"The solution is {x}\")"
      ],
      "metadata": {
        "colab": {
          "base_uri": "https://localhost:8080/"
        },
        "id": "S75ExBjT7xwo",
        "outputId": "9fbe3e92-f2f3-47f8-db23-f378606c9c49"
      },
      "execution_count": 80,
      "outputs": [
        {
          "output_type": "stream",
          "name": "stdout",
          "text": [
            "The solution is [ 2.  1. -2.]\n"
          ]
        }
      ]
    },
    {
      "cell_type": "markdown",
      "source": [
        "Experiment: How Fast is Numpy?"
      ],
      "metadata": {
        "id": "zF9oENgd8jl9"
      }
    },
    {
      "cell_type": "code",
      "source": [
        "import time"
      ],
      "metadata": {
        "id": "pLz_PD8o8ZPW"
      },
      "execution_count": 86,
      "outputs": []
    },
    {
      "cell_type": "code",
      "source": [
        "iteration = 1000000\n",
        "def list_add():\n",
        "\n",
        "  lst_1 = [e for e in range(iteration)]\n",
        "  lst_2 = [e for e in range(iteration)]\n",
        "  start = time.time()\n",
        "\n",
        "\n",
        "  lst_3 = [lst_1[i] + lst_2[i] for i in range(iteration)]\n",
        "\n",
        "  end = time.time()\n",
        "  return end-start\n",
        "\n",
        "\n",
        "clocked_time = list_add()\n",
        "\n",
        "print(f\"The program took {clocked_time} seconds\")"
      ],
      "metadata": {
        "colab": {
          "base_uri": "https://localhost:8080/"
        },
        "id": "3DHUCScD8q6q",
        "outputId": "30002a17-07cb-4e6b-a332-14c820b75d66"
      },
      "execution_count": 93,
      "outputs": [
        {
          "output_type": "stream",
          "name": "stdout",
          "text": [
            "The program took 0.08001112937927246 seconds\n"
          ]
        }
      ]
    },
    {
      "cell_type": "code",
      "source": [
        "def list_add_np():\n",
        "  lst_1 = np.arange(iteration)\n",
        "  lst_2 = np.arange(iteration)\n",
        "\n",
        "  start = time.time()\n",
        "\n",
        "\n",
        "  lst_3 = lst_1 + lst_2\n",
        "\n",
        "  end = time.time()\n",
        "  return end-start\n",
        "\n",
        "clocked_time = list_add_np()\n",
        "\n",
        "print(f\"The program took {clocked_time} seconds\")"
      ],
      "metadata": {
        "colab": {
          "base_uri": "https://localhost:8080/"
        },
        "id": "1cbnIL4z9XEN",
        "outputId": "bb4466d5-6285-4a21-87ec-3097db336761"
      },
      "execution_count": 94,
      "outputs": [
        {
          "output_type": "stream",
          "name": "stdout",
          "text": [
            "The program took 0.003625154495239258 seconds\n"
          ]
        }
      ]
    },
    {
      "cell_type": "code",
      "source": [
        "def list_mult():\n",
        "  lst_1 = [e for e in range(iteration)]\n",
        "  lst_2 = [e for e in range(iteration)]\n",
        "\n",
        "  start = time.time()\n",
        "\n",
        "  lst_3 = [lst_1[i] * lst_2[i] for i in range(iteration)]\n",
        "\n",
        "  end = time.time()\n",
        "  return end-start\n",
        "\n",
        "clocked_time = list_mult()\n",
        "\n",
        "print(f\"The program took {clocked_time} seconds\")"
      ],
      "metadata": {
        "colab": {
          "base_uri": "https://localhost:8080/"
        },
        "id": "E0j113Ns-Vpa",
        "outputId": "4f62d65f-f0d7-4f09-83ca-cda7151f9240"
      },
      "execution_count": 98,
      "outputs": [
        {
          "output_type": "stream",
          "name": "stdout",
          "text": [
            "The program took 0.08362579345703125 seconds\n"
          ]
        }
      ]
    },
    {
      "cell_type": "code",
      "source": [
        "def list_mult_np():\n",
        "  lst_1 = np.arange(iteration)\n",
        "  lst_2 = np.arange(iteration)\n",
        "\n",
        "  start = time.time()\n",
        "\n",
        "\n",
        "  lst_3 = lst_1 * lst_2\n",
        "\n",
        "  end = time.time()\n",
        "  return end-start\n",
        "\n",
        "clocked_time = list_mult_np()\n",
        "\n",
        "print(f\"The program took {clocked_time} seconds\")"
      ],
      "metadata": {
        "colab": {
          "base_uri": "https://localhost:8080/"
        },
        "id": "VsxkHrnp-zhn",
        "outputId": "c17dfecc-9f99-4b3e-837b-f093c1a27114"
      },
      "execution_count": 100,
      "outputs": [
        {
          "output_type": "stream",
          "name": "stdout",
          "text": [
            "The program took 0.00438237190246582 seconds\n"
          ]
        }
      ]
    },
    {
      "cell_type": "code",
      "source": [
        "def list_dot():\n",
        "  lst_1 = [e for e in range(iteration)]\n",
        "  lst_2 = [e for e in range(iteration)]\n",
        "\n",
        "  start = time.time()\n",
        "\n",
        "\n",
        "  dot = sum(lst_1[i] * lst_2[i] for i in range(iteration) )\n",
        "\n",
        "  end = time.time()\n",
        "  return dot,end-start\n",
        "\n",
        "\n",
        "dot, clocked_time = list_dot()\n",
        "\n",
        "print(f\"The program took {clocked_time} seconds\")\n",
        "print(f\"Dot product {dot}\")"
      ],
      "metadata": {
        "colab": {
          "base_uri": "https://localhost:8080/"
        },
        "id": "udabSSGL-9aj",
        "outputId": "73c4d495-f57b-45d0-828d-48e78dd29a80"
      },
      "execution_count": 102,
      "outputs": [
        {
          "output_type": "stream",
          "name": "stdout",
          "text": [
            "The program took 0.3253974914550781 seconds\n",
            "Dot product 333332833333500000\n"
          ]
        }
      ]
    },
    {
      "cell_type": "code",
      "source": [
        "def list_dot_np():\n",
        "  lst_1 = np.arange(iteration)\n",
        "  lst_2 = np.arange(iteration)\n",
        "\n",
        "  start = time.time()\n",
        "\n",
        "\n",
        "  dot = np.dot(lst_1,lst_2)\n",
        "\n",
        "  end = time.time()\n",
        "  return dot,end-start\n",
        "\n",
        "\n",
        "dot, clocked_time = list_dot_np()\n",
        "\n",
        "print(f\"The program took {clocked_time} seconds\")\n",
        "print(f\"Dot product {dot}\")"
      ],
      "metadata": {
        "colab": {
          "base_uri": "https://localhost:8080/"
        },
        "id": "reaiLjnG_xSY",
        "outputId": "667e5729-d3ce-4d24-aac7-e8d16ae76143"
      },
      "execution_count": 103,
      "outputs": [
        {
          "output_type": "stream",
          "name": "stdout",
          "text": [
            "The program took 0.0020639896392822266 seconds\n",
            "Dot product 333332833333500000\n"
          ]
        }
      ]
    },
    {
      "cell_type": "code",
      "source": [
        "def mult_large_matrix():\n",
        "\n",
        "\n",
        "  size = 1000\n",
        "  mat_1 =[[i for i in range(size)] for _ in range(size)]\n",
        "  mat_2 =[[i for i in range(size)] for _ in range(size)]\n",
        "  result = [[0 for _ in range(size)] for _ in range(size)]\n",
        "  start = time.time()\n",
        "\n",
        "\n",
        "  for row in range(size):\n",
        "    for col in range(size):\n",
        "      val = 0\n",
        "      for k in range(size):\n",
        "        val = val + mat_1[row][k] * mat_2[k][col]\n",
        "      result[row][col] = val\n",
        "\n",
        "  end = time.time()\n",
        "  return end-start\n",
        "\n",
        "clocked_time = mult_large_matrix()\n",
        "\n",
        "print(f\"The program took {clocked_time} seconds\")\n"
      ],
      "metadata": {
        "colab": {
          "base_uri": "https://localhost:8080/"
        },
        "id": "D3QweoeB_27s",
        "outputId": "bcca447a-62e3-4ecc-b4cf-7a1b8ab74039"
      },
      "execution_count": 110,
      "outputs": [
        {
          "output_type": "stream",
          "name": "stdout",
          "text": [
            "The program took 161.76419162750244 seconds\n"
          ]
        }
      ]
    },
    {
      "cell_type": "code",
      "source": [
        "def mult_large_mat_np():\n",
        "\n",
        "  size = 1000\n",
        "\n",
        "  mat_1 = np.arange(size * size).reshape((1000,1000))\n",
        "  mat_2 = np.arange(size * size).reshape((1000,1000))\n",
        "\n",
        "  start = time.time()\n",
        "\n",
        "  result = np.dot(mat_1,mat_2)\n",
        "\n",
        "  end = time.time()\n",
        "  return end-start\n",
        "\n",
        "\n",
        "clocked_time = mult_large_mat_np()\n",
        "\n",
        "print(f\"The program took {clocked_time} seconds\")"
      ],
      "metadata": {
        "colab": {
          "base_uri": "https://localhost:8080/"
        },
        "id": "zEuEd-nLDGlm",
        "outputId": "0eff7596-0438-4bf2-beda-71eda4bfc702"
      },
      "execution_count": 109,
      "outputs": [
        {
          "output_type": "stream",
          "name": "stdout",
          "text": [
            "The program took 2.271050214767456 seconds\n"
          ]
        }
      ]
    }
  ]
}